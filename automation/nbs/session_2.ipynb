{
 "cells": [
  {
   "cell_type": "markdown",
   "metadata": {},
   "source": [
    "## Enviando mails con Python"
   ]
  },
  {
   "cell_type": "code",
   "execution_count": 1,
   "metadata": {},
   "outputs": [],
   "source": [
    "import smtplib # Crear nuestro servidor de correo\n",
    "import email"
   ]
  },
  {
   "cell_type": "code",
   "execution_count": 10,
   "metadata": {},
   "outputs": [],
   "source": [
    "# Definido parametros de conexion al servidor\n",
    "HOST = \"smtp.mailtrap.io\"\n",
    "PORT = 2525\n",
    "USER = \"6122cdde52eb4e\"\n",
    "PSWD = \"b73ad40ad76566\""
   ]
  },
  {
   "cell_type": "code",
   "execution_count": 38,
   "metadata": {},
   "outputs": [],
   "source": [
    "# Definido el contenido del mensaje\n",
    "from_addr=\"User Envio <envio@example.com>\" \n",
    "to_addrs=\"User Recibe <recibo@example.com>\"\n",
    "message = f\"\"\"\\\n",
    "Subject: Prueba de mensaje 2\n",
    "To: {from_addr}\n",
    "From: {to_addrs}\n",
    "\n",
    "Este mensaje es de prueba.\"\"\""
   ]
  },
  {
   "cell_type": "code",
   "execution_count": 59,
   "metadata": {},
   "outputs": [],
   "source": [
    "# Utilizado nuestro servidor para enviar el mensaje\n",
    "server = smtplib.SMTP(host=HOST, port=PORT)\n",
    "server.login(user=USER, password=PSWD)\n",
    "server.sendmail(from_addr, to_addrs, msg=message)\n",
    "server.close()"
   ]
  },
  {
   "cell_type": "code",
   "execution_count": 40,
   "metadata": {},
   "outputs": [],
   "source": [
    "sender = \"Private Person <envio@example.com>\"\n",
    "receiver = \"A Test User <recibo@example.com>\"\n",
    "\n",
    "message = f\"\"\"\\\n",
    "Subject: Hi Mailtrap\n",
    "To: {receiver}\n",
    "From: {sender}\n",
    "\n",
    "This is a test e-mail message.\"\"\"\n",
    "\n",
    "with smtplib.SMTP(\"smtp.mailtrap.io\", 2525) as server:\n",
    "    server.login(\"6122cdde52eb4e\", \"b73ad40ad76566\")\n",
    "    server.sendmail(sender, receiver, message)\n",
    "    # Gracias a with se cierra la conexion automaticamente"
   ]
  },
  {
   "cell_type": "markdown",
   "metadata": {},
   "source": [
    "### Construir mensaje con la libreria `email`"
   ]
  },
  {
   "cell_type": "code",
   "execution_count": 42,
   "metadata": {},
   "outputs": [],
   "source": [
    "from email.mime.multipart import MIMEMultipart\n",
    "from email.mime.text import MIMEText\n",
    "from email.mime.image import MIMEImage"
   ]
  },
  {
   "cell_type": "code",
   "execution_count": 63,
   "metadata": {},
   "outputs": [],
   "source": [
    "# Crear un mensaje de PRUEBA multiparte y establecer encabezados\n",
    "mensaje = MIMEMultipart()"
   ]
  },
  {
   "cell_type": "code",
   "execution_count": 64,
   "metadata": {},
   "outputs": [],
   "source": [
    "# Encabezado del mensaje\n",
    "mensaje[\"From\"] = sender\n",
    "mensaje[\"To\"] = \"claudio@mimail.com\"\n",
    "mensaje[\"Subject\"] = \"Invitacion a Qatar\"\n"
   ]
  },
  {
   "cell_type": "code",
   "execution_count": 68,
   "metadata": {},
   "outputs": [],
   "source": [
    "mensaje.attach(\n",
    "    MIMEText(\"<strong>Segundo mensaje de prueba</strong>\", \"html\")\n",
    ")\n"
   ]
  },
  {
   "cell_type": "code",
   "execution_count": 69,
   "metadata": {},
   "outputs": [],
   "source": [
    "# partes_mensaje.attach(MIMEImage(img_data, name=\"convocatoria.jpeg\"))\n"
   ]
  },
  {
   "cell_type": "code",
   "execution_count": 70,
   "metadata": {},
   "outputs": [],
   "source": [
    "with smtplib.SMTP(host=HOST, port=PORT) as server:\n",
    "  server.login(user=USER, password=PSWD)\n",
    "  server.sendmail(sender, \"claudio.rtega2701@gmail.com\", mensaje.as_bytes())"
   ]
  },
  {
   "cell_type": "code",
   "execution_count": null,
   "metadata": {},
   "outputs": [],
   "source": []
  }
 ],
 "metadata": {
  "kernelspec": {
   "display_name": "Python 3.11.0 ('mi_amb_virtual': venv)",
   "language": "python",
   "name": "python3"
  },
  "language_info": {
   "codemirror_mode": {
    "name": "ipython",
    "version": 3
   },
   "file_extension": ".py",
   "mimetype": "text/x-python",
   "name": "python",
   "nbconvert_exporter": "python",
   "pygments_lexer": "ipython3",
   "version": "3.11.0"
  },
  "orig_nbformat": 4,
  "vscode": {
   "interpreter": {
    "hash": "bd6403f62163a35cb7114eee606dae6b76d33fd45f9887f1db8d5f3772306b2f"
   }
  }
 },
 "nbformat": 4,
 "nbformat_minor": 2
}
