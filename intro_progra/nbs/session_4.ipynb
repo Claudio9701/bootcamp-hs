{
  "nbformat": 4,
  "nbformat_minor": 0,
  "metadata": {
    "colab": {
      "provenance": []
    },
    "kernelspec": {
      "name": "python3",
      "display_name": "Python 3"
    },
    "language_info": {
      "name": "python"
    }
  },
  "cells": [
    {
      "cell_type": "code",
      "source": [
        "import time"
      ],
      "metadata": {
        "id": "ShPEl0eZx6Ns"
      },
      "execution_count": 40,
      "outputs": []
    },
    {
      "cell_type": "code",
      "execution_count": 41,
      "metadata": {
        "colab": {
          "base_uri": "https://localhost:8080/"
        },
        "id": "ISeMXucFx3zX",
        "outputId": "36cedf22-517f-4c03-ec2c-49a0b11602e9"
      },
      "outputs": [
        {
          "output_type": "stream",
          "name": "stdout",
          "text": [
            "Start time: 1668043664.7837899\n",
            "End time: 1668043664.7996755\n",
            "Time elapsed: 0.015885591506958008\n"
          ]
        }
      ],
      "source": [
        "start = time.time()\n",
        "\n",
        "long_data = [i for i in range(100000)]\n",
        "long_data_squared = map(lambda x: x**2, long_data)\n",
        "\n",
        "end = time.time()\n",
        "print(\"Start time:\", start)\n",
        "print(\"End time:\", end)\n",
        "print(\"Time elapsed:\", end - start)"
      ]
    },
    {
      "cell_type": "code",
      "source": [
        "import datetime as dt\n",
        "from datetime import datetime"
      ],
      "metadata": {
        "id": "gE5Nawifx9Ys"
      },
      "execution_count": 42,
      "outputs": []
    },
    {
      "cell_type": "code",
      "source": [
        "start_of_class = datetime(year=2022, month=11, day=10, hour=9, minute=30, second=0, microsecond=0)\n",
        "print(\"Class started:\", start_of_class)"
      ],
      "metadata": {
        "colab": {
          "base_uri": "https://localhost:8080/"
        },
        "id": "Nyff-Etu11hR",
        "outputId": "6a4d4228-3acc-49bd-da7a-eb5e7792304b"
      },
      "execution_count": 43,
      "outputs": [
        {
          "output_type": "stream",
          "name": "stdout",
          "text": [
            "Class started: 2022-11-10 09:30:00\n"
          ]
        }
      ]
    },
    {
      "cell_type": "code",
      "source": [
        "# string (str) formatted (f) time\n",
        "date_string = start_of_class.strftime(\"%d/%m/%y %H:%M:%S\")\n",
        "print(\"Tipo de dato:\", type(date_string))\n",
        "print(\"Fecha con nuevo formato:\", date_string)"
      ],
      "metadata": {
        "colab": {
          "base_uri": "https://localhost:8080/"
        },
        "id": "N2OZQWig1_Oh",
        "outputId": "ad1e4fe2-fdbc-48d9-d5e8-74c14c630516"
      },
      "execution_count": 44,
      "outputs": [
        {
          "output_type": "stream",
          "name": "stdout",
          "text": [
            "Tipo de dato: <class 'str'>\n",
            "Fecha con nuevo formato: 10/11/22 09:30:00\n"
          ]
        }
      ]
    },
    {
      "cell_type": "code",
      "source": [
        "processed_datestring = datetime.strptime(\"27-01-1997, 06:00\", \"%d-%m-%Y, %I:%M\")\n",
        "print(\"Tipo:\", type(processed_datestring))\n",
        "print(\"Fecha procesada:\", processed_datestring)"
      ],
      "metadata": {
        "colab": {
          "base_uri": "https://localhost:8080/"
        },
        "id": "dOsFBZeV5a7X",
        "outputId": "7595b57d-072f-4b47-c2c0-760e658c5349"
      },
      "execution_count": 45,
      "outputs": [
        {
          "output_type": "stream",
          "name": "stdout",
          "text": [
            "Tipo: <class 'datetime.datetime'>\n",
            "Fecha procesada: 1997-01-27 06:00:00\n"
          ]
        }
      ]
    },
    {
      "cell_type": "code",
      "source": [
        "interval = start_of_class - processed_datestring\n",
        "print(\"Tipo:\", type(interval))\n",
        "print(\"Intervalo de tiempo:\", interval)"
      ],
      "metadata": {
        "colab": {
          "base_uri": "https://localhost:8080/"
        },
        "id": "bRGuJjaB6DsO",
        "outputId": "cbc335d8-6c0d-44a7-a8a1-1ac4a70bc956"
      },
      "execution_count": 47,
      "outputs": [
        {
          "output_type": "stream",
          "name": "stdout",
          "text": [
            "Tipo: <class 'datetime.timedelta'>\n",
            "Intervalo de tiempo: 9418 days, 3:30:00\n"
          ]
        }
      ]
    },
    {
      "cell_type": "code",
      "source": [
        "import os"
      ],
      "metadata": {
        "id": "JNyCp4NT67_5"
      },
      "execution_count": 48,
      "outputs": []
    },
    {
      "cell_type": "code",
      "source": [
        "# obten el directorio actual (desde el cual se esta ejecutando el script)\n",
        "current_working_dir = os.getcwd()\n",
        "print(current_working_dir)"
      ],
      "metadata": {
        "colab": {
          "base_uri": "https://localhost:8080/"
        },
        "id": "RhJChPR990SN",
        "outputId": "94da4617-81fc-443c-9190-d329ed46fa3f"
      },
      "execution_count": 49,
      "outputs": [
        {
          "output_type": "stream",
          "name": "stdout",
          "text": [
            "/content\n"
          ]
        }
      ]
    },
    {
      "cell_type": "code",
      "source": [
        "# ver los contenidos de las carpetas\n",
        "cwd_content = os.listdir()\n",
        "print(cwd_content)"
      ],
      "metadata": {
        "colab": {
          "base_uri": "https://localhost:8080/"
        },
        "id": "hmKGH2YBJdW0",
        "outputId": "ed889202-800d-43a3-f6e4-38dc13c7fe7f"
      },
      "execution_count": 50,
      "outputs": [
        {
          "output_type": "stream",
          "name": "stdout",
          "text": [
            "['.config', 'sample_data']\n"
          ]
        }
      ]
    },
    {
      "cell_type": "code",
      "source": [
        "# crear nuevas carpetas\n",
        "new_folder_dir = os.path.join(current_working_dir, \"new_folder\")\n",
        "os.mkdir(new_folder_dir)\n",
        "print(os.listdir())\n"
      ],
      "metadata": {
        "colab": {
          "base_uri": "https://localhost:8080/"
        },
        "id": "daXOFL2dJeOT",
        "outputId": "36cb28f6-e488-4627-9095-bbc26f4a1afd"
      },
      "execution_count": 51,
      "outputs": [
        {
          "output_type": "stream",
          "name": "stdout",
          "text": [
            "['.config', 'new_folder', 'sample_data']\n"
          ]
        }
      ]
    },
    {
      "cell_type": "code",
      "source": [
        "# cambiar nombres de archivos\n",
        "new_folder_name = os.path.join(current_working_dir, \"new_folder_renamed\")\n",
        "os.rename(new_folder_dir, new_folder_name)\n",
        "print(os.listdir())\n"
      ],
      "metadata": {
        "colab": {
          "base_uri": "https://localhost:8080/"
        },
        "id": "vuLfGQOfJfFc",
        "outputId": "5cac7acd-7773-4aba-b704-ec67281456c2"
      },
      "execution_count": 52,
      "outputs": [
        {
          "output_type": "stream",
          "name": "stdout",
          "text": [
            "['.config', 'new_folder_renamed', 'sample_data']\n"
          ]
        }
      ]
    },
    {
      "cell_type": "code",
      "source": [
        "# eliminar carpetas\n",
        "os.rmdir(new_folder_name)\n",
        "print(os.listdir())"
      ],
      "metadata": {
        "colab": {
          "base_uri": "https://localhost:8080/"
        },
        "id": "v-q_FWRqJfnk",
        "outputId": "edf73ffb-303b-4eb5-8956-049d178487ff"
      },
      "execution_count": 53,
      "outputs": [
        {
          "output_type": "stream",
          "name": "stdout",
          "text": [
            "['.config', 'sample_data']\n"
          ]
        }
      ]
    },
    {
      "cell_type": "code",
      "source": [],
      "metadata": {
        "id": "7svoQa_4_SfF"
      },
      "execution_count": 53,
      "outputs": []
    }
  ]
}