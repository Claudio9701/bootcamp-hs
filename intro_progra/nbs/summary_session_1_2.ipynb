{
  "cells": [
    {
      "cell_type": "markdown",
      "metadata": {
        "id": "-c6yjfmwrHQg"
      },
      "source": [
        "# Hands-on Python!\n",
        "\n",
        "Se explicarán los siguientes conceptos:\n",
        "\n",
        "1. Introducción.\n",
        "2. Tipo de datos.\n",
        "3. Contenedores.\n",
        "4. Slicing.\n",
        "5. Loops.\n",
        "6. List comprehesion.\n",
        "7. Funciones.\n",
        "8. Clases."
      ]
    },
    {
      "cell_type": "markdown",
      "metadata": {
        "id": "inalg5cbrXoY"
      },
      "source": [
        "\n",
        "\n",
        "## 1. Introducción\n",
        "\n",
        "Python es un lenguaje de programación interpretado, que con ayuda de algunos [paquetes](https://packaging.python.org/tutorials/installing-packages/#installing-from-pypi) se torna en un ambiente poderoso para desarollar casi cualquier pieza de softwate.\n",
        "\n",
        "Para valirdar que se tiene Python instalado, verificamos la version utilizando el siguiente comando desde el programa terminal / command prompt / powershell dependiendo de que sistema operativo uses:\n",
        "\n",
        "```sh\n",
        "python3\n",
        "```\n",
        "\n",
        "Si todo esta bien deberías ver la versión de Python en la primera línea (debería ser 3.7 o 3.8).\n",
        "\n",
        "_Tip: No copies los códigos que te brindamos aquí: prueba, equivócate y vuelve a intentarlo tú mismo; es la única forma de aprender Python._\n"
      ]
    },
    {
      "cell_type": "markdown",
      "metadata": {
        "id": "H-jLdNrArj5l"
      },
      "source": [
        "## 2. Tipo de datos\n",
        "\n",
        "Existen diferentes tipos de datos que, para nosotros pueden significar los mismo, pero para Python se deben tratar de manera distinta. Aquí la lista:\n"
      ]
    },
    {
      "cell_type": "markdown",
      "metadata": {
        "id": "cLIs0WN9rwzM"
      },
      "source": [
        "### 2.1. Números\n",
        "\n",
        "- Existen 2 tipos principales:\n",
        "    - int: los que conocemos como enteros. Ejemplo: 234\n",
        "    - float: los que conocemos como decimales. Ejemplo: 2.4\n",
        "\n",
        "Para comprobar el tipo de dato, se puede correr el siguiente script:\n",
        "\n",
        "```python\n",
        "x = 3\n",
        "print( x , type(x) )\n",
        "```\n",
        "También se pueden realizar las siguientes operaciones:\n",
        "```python\n",
        "print( x+1 ) # Suma\n",
        "print( x-1 ) # Diferencia\n",
        "print( x*2 )  # Multiplicación\n",
        "print( x**2 ) # Potencia\n",
        "print( x/2 ) # División\n",
        "print( x//2 ) # División: denominador \n",
        "print( x%2 ) # División: residuo\n",
        "```\n",
        "Otro ejemplo con `float`:\n",
        "```python\n",
        "y = 2.5\n",
        "print( type(y) )\n",
        "print( y, y + 1, y * 2, y ** 2 ) \n",
        "```\n"
      ]
    },
    {
      "cell_type": "code",
      "execution_count": null,
      "metadata": {
        "id": "NjtVXWOlwArS"
      },
      "outputs": [],
      "source": [
        "### Coloca aquí tu código\n",
        "\n",
        "###"
      ]
    },
    {
      "cell_type": "markdown",
      "metadata": {
        "id": "xUMzWvT_r0gM"
      },
      "source": [
        "\n",
        "### 2.2. Booleanos\n",
        "Corresponde a los datos `True` y `False`. Por ejemplo:\n",
        "```python\n",
        "t, f = True, False\n",
        "print( type(t) )\n",
        "```\n",
        "Con estos datos podemos hacer distintas operaciones:\n",
        "\n",
        "```python\n",
        "print( t and f ) # y\n",
        "print( t or f ) # o\n",
        "print( not t ) # negación\n",
        "print( t != f ) # no es igual a\n",
        "print( False == False ) # es igual a\n",
        "```\n"
      ]
    },
    {
      "cell_type": "code",
      "execution_count": null,
      "metadata": {
        "id": "clTORWqrwJrn"
      },
      "outputs": [],
      "source": [
        "### Coloca aquí tu código\n",
        "\n",
        "###"
      ]
    },
    {
      "cell_type": "markdown",
      "metadata": {
        "id": "ekFI5rTGr4f-"
      },
      "source": [
        "### 2.3. Strings\n",
        "Corresponde a las cadenas (texto). Siempre debe ir entre comillas (puede ser \"\" o ''). Por ejemplo, si queremos declarar un string:\n",
        "\n",
        "```python\n",
        "hello = 'hello'\n",
        "world = \"world\"''\n",
        "print (hello , len(hello))\n",
        "```\n",
        "\n",
        "Para concatenar strings:\n",
        "\n",
        "```python\n",
        "hw = hello + \" \" + world\n",
        "print(hw)\n",
        "```\n",
        "\n",
        "Y si desean concatenar con otro tipo de datos, puede usar el siguiente artificio:\n",
        "```python\n",
        "hw = \"hello\" + \" \" + \"world\" +\" \" +str(12)\n",
        "print(hw)\n",
        "```\n",
        "O también de esta forma, usando `%`:\n",
        "```python\n",
        "hw12 = '%s %s %d' % (hello, world, 12)\n",
        "print(hw12)\n",
        "```\n",
        "Existen algunos métodos muy comunes para `string`:\n",
        "```python\n",
        "s = 'hello'\n",
        "# Capitaliza un string =>  \"Hello\"\n",
        "print(s.title())\n",
        "# Convierte un string a mayúscula => \"HELLO\"\n",
        "print(s.upper())\n",
        "# Sustituye todas las instancias de uno con otro => \"he(ell)(ell)o\"\n",
        "print(s.replace('l', '(ell)'))\n",
        "# Borra los espacios en blanco de los extremos\n",
        "print('  world '.strip())\n",
        "```\n"
      ]
    },
    {
      "cell_type": "code",
      "execution_count": null,
      "metadata": {
        "id": "Ug1u01YUwIbi"
      },
      "outputs": [],
      "source": [
        "### Coloca aquí tu código\n",
        "\n",
        "###"
      ]
    },
    {
      "cell_type": "markdown",
      "metadata": {
        "id": "7X-nyHVNvEQv"
      },
      "source": [
        "\n",
        "## 3. Contenedores\n",
        "Python otros tipos de datos que se consideran como contenedores, porque pueden guardar otros datos dentro de sí. Por ejemplo: Listas, diccionarios y tuplas.\n"
      ]
    },
    {
      "cell_type": "markdown",
      "metadata": {
        "id": "c3MqmBQevGVV"
      },
      "source": [
        "### 3.1. Listas\n",
        "También conocidas como `arrays`. Pueden contener **cualquier** tipo de dato en el mismo; esta caracterísca no lo tiene todos los lenguajes.\n",
        "\n",
        "Declaremos una lista:\n",
        "```python\n",
        "lista1 = [3, 1, 2]\n",
        "print(lista1)\n",
        "```\n",
        "Para obtener datos de un lugar de la lista podemos usar entre corchetes la posición:\n",
        "\n",
        "_PRO TIP: Python inicia en la posición `0` (cero)._\n",
        "```python\n",
        "print(lista1[0]) #la primera posición\n",
        "print(lista1[2]) #la última posición\n",
        "```\n",
        "O también podemos acceder con negativos:\n",
        "\n",
        "```python\n",
        "print(lista1[-1]) #ultima posición\n",
        "```\n",
        "Para agregar un nuevo elemento, podemos usar cualquiera de las dos maneras:\n",
        "```python\n",
        "#Forma 1: usando el lugar donde queremos incluir el elemento y el elemento. En este caso se está reemplazando el lugar `2`.\n",
        "lista1[2] = 'deep'\n",
        "print(lista1[-1])\n",
        "#Forma 2: usando append. Tomar en cuenta que append agregará en el último espacio.\n",
        "lista1.append('learning')\n",
        "print(lista1)\n",
        "```\n",
        "Para más métodos para el uso de listas, puedes revisar [la siguiente documentación.](https://docs.python.org/2/tutorial/datastructures.html#more-on-lists)\n"
      ]
    },
    {
      "cell_type": "code",
      "execution_count": null,
      "metadata": {
        "colab": {
          "base_uri": "https://localhost:8080/",
          "height": 239
        },
        "id": "EdsxC2KSwLZA",
        "outputId": "f3205313-4812-4ea1-d180-c7081d3be787"
      },
      "outputs": [
        {
          "ename": "IndexError",
          "evalue": "ignored",
          "output_type": "error",
          "traceback": [
            "\u001b[0;31m---------------------------------------------------------------------------\u001b[0m",
            "\u001b[0;31mIndexError\u001b[0m                                Traceback (most recent call last)",
            "\u001b[0;32m<ipython-input-46-43f0a064014c>\u001b[0m in \u001b[0;36m<module>\u001b[0;34m()\u001b[0m\n\u001b[1;32m      6\u001b[0m \u001b[0mlista1\u001b[0m\u001b[0;34m.\u001b[0m\u001b[0mpop\u001b[0m\u001b[0;34m(\u001b[0m\u001b[0;34m)\u001b[0m\u001b[0;34m\u001b[0m\u001b[0;34m\u001b[0m\u001b[0m\n\u001b[1;32m      7\u001b[0m \u001b[0;34m\u001b[0m\u001b[0m\n\u001b[0;32m----> 8\u001b[0;31m \u001b[0mlista1\u001b[0m\u001b[0;34m[\u001b[0m\u001b[0;34m-\u001b[0m\u001b[0;36m5\u001b[0m\u001b[0;34m]\u001b[0m\u001b[0;34m\u001b[0m\u001b[0;34m\u001b[0m\u001b[0m\n\u001b[0m\u001b[1;32m      9\u001b[0m \u001b[0;34m\u001b[0m\u001b[0m\n\u001b[1;32m     10\u001b[0m \u001b[0;31m# lista2 = [['nombre', 'edad'], ['Claudio', 25], ['Juan', 45]]\u001b[0m\u001b[0;34m\u001b[0m\u001b[0;34m\u001b[0m\u001b[0;34m\u001b[0m\u001b[0m\n",
            "\u001b[0;31mIndexError\u001b[0m: list index out of range"
          ]
        }
      ],
      "source": [
        "### Coloca aquí tu código\n",
        "lista1 = [3, 1, 2]\n",
        "lista1[0] = 0\n",
        "lista1.append(3)\n",
        "lista1.insert(2, 5)\n",
        "lista1.pop()\n",
        "\n",
        "lista2 = [['nombre', 'edad'], ['Claudio', 25], ['Juan', 45]]\n",
        "lista2\n",
        "###"
      ]
    },
    {
      "cell_type": "markdown",
      "metadata": {
        "id": "JmiV02BpvKdv"
      },
      "source": [
        "\n",
        "### 3.2. Diccionarios\n",
        "Tienen una complejidad mayor que las listas porque en este caso tendrá la siguiente forma: `diccionario = {\"llave\": valores}`\n",
        "\n",
        "```python\n",
        "d = {'cat':'cute' , 'dog':'furry'}\n",
        "print(d['cat'])\n",
        "```\n",
        "Para agregar elementos al diccionario:\n",
        "\n",
        "```python\n",
        "d['fish'] = 'wet'\n",
        "print(d) \n",
        "```\n"
      ]
    },
    {
      "cell_type": "code",
      "execution_count": null,
      "metadata": {
        "colab": {
          "base_uri": "https://localhost:8080/"
        },
        "id": "hF3aSp-xwNZi",
        "outputId": "b8ac9206-5505-4ec3-e760-efaf4ede53cd"
      },
      "outputs": [
        {
          "data": {
            "text/plain": [
              "{'edad': [30, 88, 50], 'nombre': ['Claudio', 'Paolo', 'Juan']}"
            ]
          },
          "execution_count": 17,
          "metadata": {},
          "output_type": "execute_result"
        }
      ],
      "source": [
        "### Coloca aquí tu código\n",
        "profes = {'nombre': ['Claudio', 'Paolo', 'Juan'],\n",
        "          'edad': [25, 24, 90]}\n",
        "profes['edad'] = [30, 40, 50]\n",
        "profes['edad'][1] = 88\n",
        "profes\n",
        "###"
      ]
    },
    {
      "cell_type": "markdown",
      "metadata": {
        "id": "b9J6s4RqvNgo"
      },
      "source": [
        "### 3.3. Tuplas\n",
        "Una tupla es una lista ordenada (inmutable) de valores. Una tupla es similar a una lista; una de las diferencias más importantes es que las tuplas se pueden usar como claves en diccionarios y como elementos de conjuntos, mientras que las listas no. Por ejemplo:\n",
        "\n",
        "```python\n",
        "t = (5, 6)       # Crear una tupla\n",
        "print( type(t) )\n",
        "print(t[0])\n",
        "```\n",
        "\n"
      ]
    },
    {
      "cell_type": "code",
      "execution_count": null,
      "metadata": {
        "colab": {
          "base_uri": "https://localhost:8080/"
        },
        "id": "nXJYJsk4wOQi",
        "outputId": "756b2f86-a697-445e-80b1-67f779e87bc9"
      },
      "outputs": [
        {
          "data": {
            "text/plain": [
              "(0, 1, 2, 3)"
            ]
          },
          "execution_count": 27,
          "metadata": {},
          "output_type": "execute_result"
        }
      ],
      "source": [
        "### Coloca aquí tu código\n",
        "t = (0, 1, 2, 3)\n",
        "t\n",
        "###"
      ]
    },
    {
      "cell_type": "markdown",
      "metadata": {
        "id": "JAB7Ky10vQGx"
      },
      "source": [
        "## 4. Slicing\n",
        "`range` Permite acceder a las listas en un lugar específico. Ademas, sigue la siguiente estructura: [cerrado, abierto]. `list` te permitira poder imprimir el resultado de `range`.\n",
        "\n",
        "```python\n",
        "#creamos la lista y la mostramos\n",
        "nums = list(range(5))\n",
        "print(\"1)\", nums)\n",
        "#podemos mostrar un bloque de datos\n",
        "print(\"2)\", nums[2:4])\n",
        "#Todos desde la posicion 2\n",
        "print(\"3)\", nums[2:])\n",
        "#Todos hasta la posicion 2\n",
        "print(\"4)\", nums[:2])\n",
        "#Todos\n",
        "print(\"5)\", nums[:])\n",
        "#Todos hasta el penúltimo\n",
        "print(\"6)\", nums[:-1])\n",
        "#Reemplaza las posiciones 2,3 (porque 4 es abierto)\n",
        "nums[2:4] = [8, 9]\n",
        "print(\"7)\", nums)\n",
        "```\n",
        "\n",
        "Output esperado:\n",
        "\n",
        "```sh\n",
        "1) [0 , 1, 2, 3, 4]\n",
        "2) [2, 3]\n",
        "3) [2, 3, 4]\n",
        "4) [0 , 1]\n",
        "5) [0 , 1, 2, 3, 4]\n",
        "6) [0 , 1, 2, 3]\n",
        "7) [0 , 1, 8, 9, 4]\n",
        "```\n",
        "\n"
      ]
    },
    {
      "cell_type": "code",
      "execution_count": null,
      "metadata": {
        "colab": {
          "base_uri": "https://localhost:8080/"
        },
        "id": "v-rX1-mQwO4Z",
        "outputId": "47f438b8-cc8f-49e0-bde6-3197597b07f6"
      },
      "outputs": [
        {
          "data": {
            "text/plain": [
              "[0, 1, 2, 3, 4, 5, 6, 7]"
            ]
          },
          "execution_count": 52,
          "metadata": {},
          "output_type": "execute_result"
        }
      ],
      "source": [
        "### Coloca aquí tu código\n",
        "nums = list(range(10))\n",
        "nums[:-2]\n",
        "# midix = int(len(nums)/2)\n",
        "# nums[midix] = 1000\n",
        "# nums\n",
        "###"
      ]
    },
    {
      "cell_type": "markdown",
      "metadata": {
        "id": "ricg0_JgvSxb"
      },
      "source": [
        "## 5. Loops\n",
        "Los bucles te permiten ejecutar código una y otra vez dependiendo de ciertas condiciones. Tambien permiten iterar dentro de listas, diccionarios, entre otros.\n",
        "Para el uso de bucles aprenderemos los siguientes términos:\n",
        "\n",
        "- For in range\n",
        "- For in list\n",
        "- while\n"
      ]
    },
    {
      "cell_type": "markdown",
      "metadata": {
        "id": "AeSr_2wDvVgj"
      },
      "source": [
        "## 5.1. For in range\n",
        "Sirve para ejecutar un código una cantidad determinada de veces. Junto con una variable “i” que cambia cada iteración.\n",
        "\n",
        "```python\n",
        "for i in range(3):\n",
        "   print(\"Hola amigo #\",i)\n",
        "```\n",
        "Esto devolvera la siguiente lista de saludos.\n",
        "```sh\n",
        "Hola amigo # 0\n",
        "Hola amigo # 1\n",
        "Hola amigo # 2\n",
        "```\n",
        "\n"
      ]
    },
    {
      "cell_type": "code",
      "execution_count": null,
      "metadata": {
        "colab": {
          "base_uri": "https://localhost:8080/"
        },
        "id": "6EvfOz1xwT37",
        "outputId": "b7627623-e26d-4e64-c9e5-d35733a7f86e"
      },
      "outputs": [
        {
          "name": "stdout",
          "output_type": "stream",
          "text": [
            "10\n",
            ">>> 10\n",
            ">>> 11\n",
            ">>> 12\n",
            ">>> 13\n",
            ">>> 14\n",
            "20\n",
            ">>> 20\n",
            ">>> 21\n",
            ">>> 22\n",
            ">>> 23\n",
            ">>> 24\n",
            "30\n",
            ">>> 30\n",
            ">>> 31\n",
            ">>> 32\n",
            ">>> 33\n",
            ">>> 34\n",
            "40\n",
            ">>> 40\n",
            ">>> 41\n",
            ">>> 42\n",
            ">>> 43\n",
            ">>> 44\n",
            "50\n",
            ">>> 50\n",
            ">>> 51\n",
            ">>> 52\n",
            ">>> 53\n",
            ">>> 54\n",
            "60\n",
            ">>> 60\n",
            ">>> 61\n",
            ">>> 62\n",
            ">>> 63\n",
            ">>> 64\n",
            "70\n",
            ">>> 70\n",
            ">>> 71\n",
            ">>> 72\n",
            ">>> 73\n",
            ">>> 74\n",
            "80\n",
            ">>> 80\n",
            ">>> 81\n",
            ">>> 82\n",
            ">>> 83\n",
            ">>> 84\n",
            "90\n",
            ">>> 90\n",
            ">>> 91\n",
            ">>> 92\n",
            ">>> 93\n",
            ">>> 94\n",
            "100\n",
            ">>> 100\n",
            ">>> 101\n",
            ">>> 102\n",
            ">>> 103\n",
            ">>> 104\n"
          ]
        }
      ],
      "source": [
        "### Coloca aquí tu código\n",
        "for i in range(10, 101, 10):\n",
        "  print(i)\n",
        "  for j in range(i, i+5):\n",
        "    print('>>>', j)\n",
        "###"
      ]
    },
    {
      "cell_type": "code",
      "execution_count": null,
      "metadata": {
        "id": "XDLQWJVOI_fo"
      },
      "outputs": [],
      "source": []
    },
    {
      "cell_type": "code",
      "execution_count": null,
      "metadata": {
        "colab": {
          "base_uri": "https://localhost:8080/"
        },
        "id": "xo_NE_PbI_nH",
        "outputId": "179a07a5-9f80-4c6d-f744-25473924a0b7"
      },
      "outputs": [
        {
          "data": {
            "text/plain": [
              "range(0, 10)"
            ]
          },
          "execution_count": 55,
          "metadata": {},
          "output_type": "execute_result"
        }
      ],
      "source": [
        "range(10)"
      ]
    },
    {
      "cell_type": "markdown",
      "metadata": {
        "id": "ziEpKBsBvYJl"
      },
      "source": [
        "## 5.2. For in list\n",
        "Para iterar de la siguiente forma: `for` iterador `in` lista_animales --> imprime sus elementos. El iterador empieza desde la posición cero.\n",
        "\n",
        "```python\n",
        "animals = ['cat', 'dog', 'monkey']\n",
        "for animal in animals:\n",
        "    print(animal)\n",
        "```\n",
        "Esto devolvera la lista de animales\n",
        "```sh\n",
        "cat\n",
        "dog\n",
        "monkey\n",
        "```\n"
      ]
    },
    {
      "cell_type": "code",
      "execution_count": null,
      "metadata": {
        "colab": {
          "base_uri": "https://localhost:8080/"
        },
        "id": "mDTF3rr7wU-k",
        "outputId": "f60cfea1-579e-4c25-fe9d-21d1fd02bea0"
      },
      "outputs": [
        {
          "name": "stdout",
          "output_type": "stream",
          "text": [
            "especie\n",
            ">>> 0 cat\n",
            ">>> 1 dog\n",
            ">>> 2 monkey\n",
            "nombres\n",
            ">>> 0 Leia\n",
            ">>> 1 Loki\n",
            ">>> 2 George\n"
          ]
        }
      ],
      "source": [
        "### Coloca aquí tu código\n",
        "animals = {'especie': ['cat', 'dog', 'monkey'], \n",
        "           'nombres': ['Leia', 'Loki', 'George']}\n",
        "for key, value in animals.items():\n",
        "    print(key)\n",
        "    for ix, elem in enumerate(value):\n",
        "      print('>>>', ix, elem)\n",
        "###"
      ]
    },
    {
      "cell_type": "markdown",
      "metadata": {
        "id": "VmjCP426vbqm"
      },
      "source": [
        "## 5.3. While\n",
        "Sirve para ejecutar un código una cantidad indeterminada de veces. Seguirá ejecutándose hasta que la condición sea falsa.\n",
        "\n",
        "```python\n",
        "x = 0\n",
        "while (x<3):\n",
        " print(\"Adios amigo #\",x)\n",
        " x=x+1\n",
        "```\n",
        "Esto devolvera la siguiente lista de despedidas\n",
        "```sh\n",
        "Adios amigo # 0\n",
        "Adios amigo # 1\n",
        "Adios amigo # 2\n",
        "```\n",
        "\n"
      ]
    },
    {
      "cell_type": "code",
      "execution_count": null,
      "metadata": {
        "id": "V3cphs0lNm4J"
      },
      "outputs": [],
      "source": [
        "import numpy as np"
      ]
    },
    {
      "cell_type": "code",
      "execution_count": null,
      "metadata": {
        "colab": {
          "base_uri": "https://localhost:8080/"
        },
        "id": "tLEyigZHNqlT",
        "outputId": "059e07dc-7db8-4878-871e-fe407864aeef"
      },
      "outputs": [
        {
          "name": "stdout",
          "output_type": "stream",
          "text": [
            "0\n",
            "0\n",
            "1\n",
            "0\n",
            "0\n",
            "1\n",
            "0\n",
            "1\n",
            "0\n",
            "0\n",
            "1\n",
            "0\n",
            "0\n",
            "0\n",
            "0\n",
            "1\n",
            "1\n",
            "1\n",
            "0\n",
            "0\n",
            "0\n",
            "1\n",
            "1\n",
            "0\n",
            "0\n",
            "0\n",
            "0\n",
            "1\n",
            "0\n",
            "0\n",
            "0\n",
            "0\n",
            "1\n",
            "1\n",
            "1\n",
            "0\n",
            "1\n",
            "1\n",
            "1\n",
            "0\n",
            "0\n",
            "1\n",
            "0\n",
            "0\n",
            "1\n",
            "0\n",
            "0\n",
            "1\n",
            "0\n",
            "1\n"
          ]
        }
      ],
      "source": [
        "for i in range(50):\n",
        "  print()\n"
      ]
    },
    {
      "cell_type": "code",
      "execution_count": null,
      "metadata": {
        "colab": {
          "base_uri": "https://localhost:8080/"
        },
        "id": "XKjznxSaOMVm",
        "outputId": "17d2feb3-5ebd-462e-ff98-fb7d35629055"
      },
      "outputs": [
        {
          "data": {
            "text/plain": [
              "2"
            ]
          },
          "execution_count": 91,
          "metadata": {},
          "output_type": "execute_result"
        }
      ],
      "source": [
        "len({'k':'v', 'k1':'v1'})"
      ]
    },
    {
      "cell_type": "code",
      "execution_count": null,
      "metadata": {
        "colab": {
          "base_uri": "https://localhost:8080/"
        },
        "id": "PniOgj_SwVg_",
        "outputId": "e6697dcf-b3df-40a7-d41a-6972d21d1e3c"
      },
      "outputs": [
        {
          "name": "stdout",
          "output_type": "stream",
          "text": [
            "en proceso.. por favor espera\n",
            "terminado\n"
          ]
        }
      ],
      "source": [
        "### Coloca aquí tu código\n",
        "estado_calculo = 0\n",
        "\n",
        "while (estado_calculo != 1):\n",
        "  print('en proceso.. por favor espera')\n",
        "  estado_calculo = np.random.randint(0, 2)\n",
        "\n",
        "print('terminado')\n",
        "###"
      ]
    },
    {
      "cell_type": "markdown",
      "metadata": {
        "id": "xJOfes2_vdUl"
      },
      "source": [
        "italicized text## 6. Funciones\n",
        "Nos permiten encapsular una funcionalidad para mejorar el performance de nuestro código y podamos reutilizarlas solo declarándolas. Estas funciones se declaran usando `def` al inicio.\n",
        "\n",
        "```python\n",
        "#esta función tiene el parámetro \"x\" y evalúa si \"x\" es positivo, negativo o cero\n",
        "def sign(x):\n",
        "    if x > 0:\n",
        "        return 'positivo'\n",
        "    elif x < 0:\n",
        "        return 'negativo'\n",
        "    else:\n",
        "        return 'cero'\n",
        "```\n",
        "Luego para llamar la función que acabamos de crear, lo podemos hacer de diversas maneras:\n",
        "\n",
        "```python\n",
        "#solo imprimir lo que nos da la función\n",
        "print(sign(-1))\n",
        "\n",
        "#también lo podemos agregar a una variables (castear)\n",
        "validador_signo = sign(-1)\n",
        "print(validador_signo)\n",
        "```\n",
        "\n"
      ]
    },
    {
      "cell_type": "code",
      "execution_count": null,
      "metadata": {
        "colab": {
          "base_uri": "https://localhost:8080/"
        },
        "id": "Kg_m0Pe2TahO",
        "outputId": "0e7414f6-edf6-4ab5-9b7e-8af3b2d543c9"
      },
      "outputs": [
        {
          "data": {
            "text/plain": [
              "0.6"
            ]
          },
          "execution_count": 21,
          "metadata": {},
          "output_type": "execute_result"
        }
      ],
      "source": [
        "import numpy as np\n"
      ]
    },
    {
      "cell_type": "code",
      "execution_count": null,
      "metadata": {
        "colab": {
          "base_uri": "https://localhost:8080/"
        },
        "id": "fNnDhX5NwWGt",
        "outputId": "46511d6d-f452-4a4a-a16a-31253a8ad17f"
      },
      "outputs": [
        {
          "name": "stdout",
          "output_type": "stream",
          "text": [
            "96.0\n",
            "96.0\n",
            "108.0\n",
            "84.0\n"
          ]
        }
      ],
      "source": [
        "### Coloca aquí tu código\n",
        "\n",
        "def neutra(data, tipo):\n",
        " '''\n",
        " Esta funcion multiplica x 10 el primer valor de la lista data y\n",
        " cambia el estado de el diccionario tipo a 1\n",
        " '''\n",
        " data[0] = data[0] * 10\n",
        " tipo['estado'] = 1\n",
        "\n",
        "data = [1, 2, 3, 4, 5]\n",
        "tipo = {'estado': 0}\n",
        "# print('Antes:', data, tipo)\n",
        "\n",
        "neutra(data, tipo)\n",
        "\n",
        "# print('Despues:', data, tipo)\n",
        "\n",
        "def calcular_precio_descontado(precio_lista, user_id=None, dscto=0.1):\n",
        "  if user_id:\n",
        "    return precio_lista * (1 - round(np.random.rand(), 1))\n",
        "\n",
        "  if dscto:\n",
        "    return precio_lista * (1 - dscto)\n",
        "\n",
        "  return precio_lista\n",
        "\n",
        "print(calcular_precio_descontado(120, user_id=243453))\n",
        "print(calcular_precio_descontado(120, dscto=0.2))\n",
        "print(calcular_precio_descontado(120))\n",
        "print(calcular_precio_descontado(user_id=243453, precio_lista=120))\n",
        "\n",
        "###"
      ]
    },
    {
      "cell_type": "markdown",
      "metadata": {
        "id": "qb2ATsrEvfFj"
      },
      "source": [
        "## 7. Clases\n",
        "Una clase corresponde a un objeto en progamación. Este concepto nos servirá mucho en el desarrollo del trabajo final (ecommerce).\n",
        "Primero utilizaremos un ejemplo para entender la logica a través de una clase Carro que tiene un **Constructor, Atributos y Métodos**.\n"
      ]
    },
    {
      "cell_type": "markdown",
      "metadata": {
        "id": "IOT7EqzOvk0y"
      },
      "source": [
        "\n",
        "Un carro tiene **Atributos** como el año de edición, los kilometros recorridos y el color. Por lo tanto nustra clase Carro tambien lo tendrá.\n",
        "```python\n",
        "def __init__(self, col, año, km):\n",
        "    self.color = col\n",
        "    self.año = año\n",
        "    self.kilómetros = km\n",
        "```\n",
        "\n"
      ]
    },
    {
      "cell_type": "markdown",
      "metadata": {
        "id": "j0OJjGjqvnkt"
      },
      "source": [
        "Adicionalmente un carro puede realizar acciones, como avanzar y frenar. Por lo que nuestra clase Carro tambien podrá hacerlo a través de los **Métodos**\n",
        "```python\n",
        "def avanzar(self):\n",
        "       return \"Rum Rum... Carro avanzando.\" \n",
        "\n",
        "def frenar(self):\n",
        "       return \"uuu... El carro ha frenado.\"\n",
        "```\n",
        "\n"
      ]
    },
    {
      "cell_type": "markdown",
      "metadata": {
        "id": "GzUsR_HCvovs"
      },
      "source": [
        "Seguro te preguntaras donde quedo el **Constructor**. Por el momento no hay problema, puesto que ya lo hemos utilizado. Es una función que utiliza las propiedades de las clases para crear objetos. Además, puede incluir variables que permitirán personalizarlo. Puedes verlo como una fabrica de autos que puede componer diferentes modelos.\n",
        "```python\n",
        "class Carro:\n",
        "    # __init__ declara las variables como parte del nuevo objeto.\n",
        "   def __init__(self, col, año, km):\n",
        "       self.color = col\n",
        "       self.año = año\n",
        "       self.kilómetros = km\n",
        "```\n"
      ]
    },
    {
      "cell_type": "markdown",
      "metadata": {
        "id": "egRrbCysvrUP"
      },
      "source": [
        "Finalmente todo junto se veria así:\n",
        "```python\n",
        "class Carro:\n",
        "   def __init__(self, col, año, km):\n",
        "       self.color = col\n",
        "       self.año = año\n",
        "       self.kilómetros = km\n",
        "\n",
        "   def avanzar(self):\n",
        "       return \"Carro avanzando.\"\n",
        "   def retroceder(self):\n",
        "       return \"El carro ha frenado.\"\n",
        "```\n"
      ]
    },
    {
      "cell_type": "code",
      "execution_count": null,
      "metadata": {
        "id": "o84_SmCYwXsd"
      },
      "outputs": [],
      "source": [
        "### Coloca aquí tu código\n",
        "class Carro:\n",
        "   def __init__(self, col, año, km):\n",
        "       self.color = col\n",
        "       self.año = año\n",
        "       self.kilómetros = km\n",
        "\n",
        "   def avanzar(self, velocidad):\n",
        "       return f\"Carro avanzando a {velocidad} km/h\"\n",
        "\n",
        "   def retroceder(self):\n",
        "       return f\"El carro {self.color} ha frenado.\"\n",
        "###"
      ]
    },
    {
      "cell_type": "markdown",
      "metadata": {
        "id": "VofFeBIavusg"
      },
      "source": [
        "Ahora que tenemos todo listo ya podemos fabricar nuestro propio auto.\n",
        "```python\n",
        "#Fabricamos un nuevo auto rojo del 2016 que ha recorrido 0.0 kilometros\n",
        "MiCarro = Carro(\"rojo\",2016,0.0);\n",
        "#Hacemos que el auto nuevo avance\n",
        "print(MiCarro.avanzar());\n",
        "```\n",
        "\n"
      ]
    },
    {
      "cell_type": "code",
      "execution_count": null,
      "metadata": {
        "id": "h1nRKZSfwYvW"
      },
      "outputs": [],
      "source": [
        "### Coloca aquí tu código\n",
        "carro_verde = Carro(\"verde\", 2025, 0)\n",
        "###"
      ]
    },
    {
      "cell_type": "code",
      "execution_count": null,
      "metadata": {
        "colab": {
          "base_uri": "https://localhost:8080/"
        },
        "id": "zdhTQw6xVYIw",
        "outputId": "e89e3bce-cf1c-4987-a631-f064a0477de3"
      },
      "outputs": [
        {
          "data": {
            "text/plain": [
              "(2025, 'verde', 0)"
            ]
          },
          "execution_count": 47,
          "metadata": {},
          "output_type": "execute_result"
        }
      ],
      "source": [
        "carro_verde.año, carro_verde.color, carro_verde.kilómetros"
      ]
    },
    {
      "cell_type": "code",
      "execution_count": null,
      "metadata": {
        "colab": {
          "base_uri": "https://localhost:8080/"
        },
        "id": "PrDwzKL2Vief",
        "outputId": "8d6d0443-2786-4af0-8a89-3e6ef0957421"
      },
      "outputs": [
        {
          "data": {
            "text/plain": [
              "('Carro avanzando a 90 km/h', 'El carro verde ha frenado.')"
            ]
          },
          "execution_count": 48,
          "metadata": {},
          "output_type": "execute_result"
        }
      ],
      "source": [
        "carro_verde.avanzar(90), carro_verde.retroceder()"
      ]
    },
    {
      "cell_type": "markdown",
      "metadata": {
        "id": "64vq7ZjzvxB5"
      },
      "source": [
        "Acá podemos ver otro ejemplo.\n",
        "```python\n",
        "#declaramos la clase\n",
        "class Greeter:\n",
        "    # Constructor\n",
        "    def __init__(self, name):\n",
        "        self.name = name  # Create an instance variable\n",
        "    # Métodos\n",
        "    def greet(self, loud):\n",
        "        if loud==1:\n",
        "            print('HELLO, %s!' % self.name.upper())\n",
        "        else:\n",
        "            print('Hello, %s' % self.name)\n",
        "\n",
        "```\n"
      ]
    },
    {
      "cell_type": "code",
      "execution_count": null,
      "metadata": {
        "id": "JE_6O1n9wZM2"
      },
      "outputs": [],
      "source": [
        "### Coloca aquí tu código\n",
        "class Greeter:\n",
        "    # Constructor\n",
        "    def __init__(self, name):\n",
        "        self.name = name  # Create an instance variable\n",
        "    # Métodos\n",
        "    def greet(self, loud):\n",
        "        if loud==1:\n",
        "            print('HELLO, %s!' % self.name.upper())\n",
        "        else:\n",
        "            print('Hello, %s' % self.name)\n",
        "###"
      ]
    },
    {
      "cell_type": "markdown",
      "metadata": {
        "id": "zhNEFTlVvzMC"
      },
      "source": [
        "Reutilizamos nuestra clase Greeter:\n",
        "```python\n",
        "g = Greeter('Fred')  # Gracias al constructor podemos crear la clase 'Freed'\n",
        "g.greet(loud=1) # Llamamos al método usando 1. Ingresa al if\n",
        "g.greet(loud=0) # Llamamos al método usando 0. Ingresa al else\n",
        "```"
      ]
    },
    {
      "cell_type": "code",
      "execution_count": null,
      "metadata": {
        "colab": {
          "base_uri": "https://localhost:8080/"
        },
        "id": "ZjSqolHMwZ7Y",
        "outputId": "45cbe882-5023-4bec-cf78-070f2c5c8b9c"
      },
      "outputs": [
        {
          "name": "stdout",
          "output_type": "stream",
          "text": [
            "HELLO, FRED!\n",
            "Hello, Fred\n"
          ]
        }
      ],
      "source": [
        "### Coloca aquí tu código\n",
        "g = Greeter('Fred')  # Gracias al constructor podemos crear la clase 'Freed'\n",
        "g.greet(loud=1) # Llamamos al método usando 1. Ingresa al if\n",
        "g.greet(loud=0) # Llamamos al método usando 0. Ingresa al else\n",
        "###"
      ]
    },
    {
      "cell_type": "code",
      "execution_count": null,
      "metadata": {
        "id": "wc_U4QAUrrka"
      },
      "outputs": [],
      "source": []
    }
  ],
  "metadata": {
    "colab": {
      "provenance": []
    },
    "kernelspec": {
      "display_name": "Python 3",
      "name": "python3"
    },
    "language_info": {
      "name": "python"
    }
  },
  "nbformat": 4,
  "nbformat_minor": 0
}
